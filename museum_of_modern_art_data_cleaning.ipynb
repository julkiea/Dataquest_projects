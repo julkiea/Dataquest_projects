{
 "cells": [
  {
   "cell_type": "markdown",
   "id": "b2a51b8b",
   "metadata": {},
   "source": [
    "# Cleaning and Preparing Data in Python - Museum of Modern Art Dataset"
   ]
  },
  {
   "cell_type": "code",
   "execution_count": 1,
   "id": "f756c90f",
   "metadata": {},
   "outputs": [],
   "source": [
    "from csv import reader"
   ]
  },
  {
   "cell_type": "markdown",
   "id": "6bd607cd",
   "metadata": {},
   "source": [
    "## About the dataset"
   ]
  },
  {
   "cell_type": "markdown",
   "id": "9737513a",
   "metadata": {},
   "source": [
    "Dataset I will work with is the dataset with data about the art in the Museum of Modern Art (MoMA). MoMA, a museum in New York City, has one of the largest collections of modern art in the world."
   ]
  },
  {
   "cell_type": "markdown",
   "id": "729d17b5",
   "metadata": {},
   "source": [
    "Dataset consists of following columns:  \n",
    "  \n",
    "* Title: the title of the artwork,\n",
    "* Artist: the name of the artist who created the artwork,\n",
    "* Nationality: the nationality of the artist,\n",
    "* BeginDate: the year in which the artist was born,\n",
    "* EndDate: the year in which the artist died,\n",
    "* Gender: the gender of the artist,\n",
    "* Date: the date that the artwork was created,\n",
    "* Department: the department inside MoMA to which the artwork belongs."
   ]
  },
  {
   "cell_type": "markdown",
   "id": "52861a2c",
   "metadata": {},
   "source": [
    "## Opening the dataset"
   ]
  },
  {
   "cell_type": "code",
   "execution_count": 2,
   "id": "266f4377",
   "metadata": {},
   "outputs": [],
   "source": [
    "with open('artworks.csv', encoding='UTF-8') as file:\n",
    "    read_file = reader(file)\n",
    "    moma = list(read_file)"
   ]
  },
  {
   "cell_type": "code",
   "execution_count": 3,
   "id": "e534e531",
   "metadata": {},
   "outputs": [
    {
     "data": {
      "text/plain": [
       "['Dress MacLeod from Tartan Sets',\n",
       " 'Sarah Charlesworth',\n",
       " '(American)',\n",
       " '(1947)',\n",
       " '(2013)',\n",
       " '(Female)',\n",
       " '1986',\n",
       " 'Prints & Illustrated Books']"
      ]
     },
     "execution_count": 3,
     "metadata": {},
     "output_type": "execute_result"
    }
   ],
   "source": [
    "moma_header = moma[1]\n",
    "moma_header"
   ]
  },
  {
   "cell_type": "code",
   "execution_count": 26,
   "id": "b3d65c14",
   "metadata": {},
   "outputs": [],
   "source": [
    "moma_data = moma[1:]\n"
   ]
  },
  {
   "cell_type": "markdown",
   "id": "84ca7264",
   "metadata": {},
   "source": [
    "## Exploring the dataset"
   ]
  },
  {
   "cell_type": "code",
   "execution_count": 5,
   "id": "72fb33e9",
   "metadata": {},
   "outputs": [],
   "source": [
    "def explore_data(dataset, start, end, rows_and_columns=False):\n",
    "    \n",
    "    \"\"\"\n",
    "    Displays a specified slice of the dataset and optionally prints the dataset's dimensions.\n",
    "    \n",
    "        Parameters:\n",
    "            dataset (list of lists): The dataset to be explored, where each inner list represents a row.\n",
    "            start (int): Starting index of the slice.\n",
    "            end (int): Ending index of the slice (non-inclusive).\n",
    "            rows_and_columns (bool, optional): If True, prints the number of rows and columns in the dataset.\n",
    "\n",
    "        Returns:\n",
    "            None\n",
    "            \n",
    "    \"\"\"\n",
    "        \n",
    "    dataset_slice = dataset[start:end] \n",
    "    \n",
    "    for row in dataset_slice:\n",
    "        print(row)\n",
    "        print('\\n') \n",
    "\n",
    "    if rows_and_columns:\n",
    "        print('Number of rows:', len(dataset))\n",
    "        print('Number of columns:', len(dataset[0]))"
   ]
  },
  {
   "cell_type": "code",
   "execution_count": 6,
   "id": "0e00e050",
   "metadata": {},
   "outputs": [
    {
     "name": "stdout",
     "output_type": "stream",
     "text": [
      "['Title', 'Artist', 'Nationality', 'BeginDate', 'EndDate', 'Gender', 'Date', 'Department']\n",
      "\n",
      "\n",
      "['Dress MacLeod from Tartan Sets', 'Sarah Charlesworth', '(American)', '(1947)', '(2013)', '(Female)', '1986', 'Prints & Illustrated Books']\n",
      "\n",
      "\n",
      "['Duplicate of plate from folio 11 verso (supplementary suite, plate 4) from ARDICIA', 'Pablo Palazuelo', '(Spanish)', '(1916)', '(2007)', '(Male)', '1978', 'Prints & Illustrated Books']\n",
      "\n",
      "\n",
      "['Tailpiece (page 55) from SAGESSE', 'Maurice Denis', '(French)', '(1870)', '(1943)', '(Male)', '1889-1911', 'Prints & Illustrated Books']\n",
      "\n",
      "\n",
      "['Headpiece (page 129) from LIVRET DE FOLASTRIES, À JANOT PARISIEN', 'Aristide Maillol', '(French)', '(1861)', '(1944)', '(Male)', '1927-1940', 'Prints & Illustrated Books']\n",
      "\n",
      "\n",
      "Number of rows: 16726\n",
      "Number of columns: 8\n"
     ]
    }
   ],
   "source": [
    "explore_data(moma, 0, 5, True)"
   ]
  },
  {
   "cell_type": "markdown",
   "id": "0137be11",
   "metadata": {},
   "source": [
    "As we can see the dataset consists of 16726 rows. The first one is header and each of the rest contains piece of information about one piece of art.\n"
   ]
  },
  {
   "cell_type": "markdown",
   "id": "d316fcdb",
   "metadata": {},
   "source": [
    "## Cleaning the nationality and gender columns"
   ]
  },
  {
   "cell_type": "markdown",
   "id": "85122d27",
   "metadata": {},
   "source": [
    "We can see that columns: nationality, gender have parentheses (()) at the beginning and the end of the values. So I will get rid of them. "
   ]
  },
  {
   "cell_type": "code",
   "execution_count": 7,
   "id": "e63ed7e0",
   "metadata": {},
   "outputs": [],
   "source": [
    "for row in moma_data:\n",
    "    nationality = row[2]\n",
    "    nationality_clean_open = nationality.replace('(', '')\n",
    "    nationality_clean = nationality_clean_open.replace(')', '')\n",
    "    row[2] = nationality_clean\n",
    "    \n",
    "    gender = row[5]\n",
    "    gender_clean_open = gender.replace('(', '')\n",
    "    gender_clean = gender_clean_open.replace(')', '')\n",
    "    row[5] = gender_clean"
   ]
  },
  {
   "cell_type": "code",
   "execution_count": 8,
   "id": "0bbeade3",
   "metadata": {},
   "outputs": [
    {
     "name": "stdout",
     "output_type": "stream",
     "text": [
      "['PORTRAITS DE CHOPIN', 'Marc Chagall', 'French', '(1887)', '(1985)', 'Male', '1949', 'Prints & Illustrated Books']\n",
      "\n",
      "\n",
      "['The Razorback Bunch (Etching III)', 'Robert Rauschenberg', 'American', '(1925)', '(2008)', 'Male', '1981', 'Prints & Illustrated Books']\n",
      "\n",
      "\n",
      "['Identity Transfer from Program One: Aspen Projects', 'Dennis Oppenheim', 'American', '(1938)', '(2011)', 'Male', '1970', 'Media and Performance Art']\n",
      "\n",
      "\n",
      "['Lipstick (Ascending) on Caterpillar Track', 'Claes Oldenburg', 'American', '(1929)', '', 'Male', '1969', 'Prints & Illustrated Books']\n",
      "\n",
      "\n",
      "['\"1 PERSON/1 PLACE\" from the portfolio DETAILS FROM THE EXCAVATION OF WOOSTER STREET', 'Richard Nonas', 'American', '(1936)', '', 'Male', '1972', 'Prints & Illustrated Books']\n",
      "\n",
      "\n"
     ]
    }
   ],
   "source": [
    "explore_data(moma_data, 50, 55)"
   ]
  },
  {
   "cell_type": "markdown",
   "id": "8a20cebc",
   "metadata": {},
   "source": [
    "There is also another problem with gender column. We can see that this column in our dataset can contain four different values: \"\", \"Male\", \"Female\", \"male\". "
   ]
  },
  {
   "cell_type": "code",
   "execution_count": 9,
   "id": "c58290bc",
   "metadata": {},
   "outputs": [],
   "source": [
    "for row in moma_data:\n",
    "    gender = row[5]\n",
    "    gender_clean = gender.title()\n",
    "    row[5] =gender_clean\n",
    "    if gender == \"\":\n",
    "        gender = \"Gender Unknown/Other\"\n",
    "        row[5] = gender\n",
    "        \n",
    "    nationality = row[2]\n",
    "    nationality_clean = nationality.title()\n",
    "    row[2] = nationality_clean\n",
    "    if nationality == \"\":\n",
    "        nationality = \"Nationality Unknown\"\n",
    "        row[2] = nationality"
   ]
  },
  {
   "cell_type": "markdown",
   "id": "386b9a88",
   "metadata": {},
   "source": [
    "## Cleaning BeginDate and EndDate columns"
   ]
  },
  {
   "cell_type": "markdown",
   "id": "fe90d76a",
   "metadata": {},
   "source": [
    "Next columns that need to be cleaned are: BeginDate which is artist's date of birth and EndDate which is artist's date of death. \n",
    "Values in both these columns are strings wraped by parenthesis. We want them to be integers with no parenthesis."
   ]
  },
  {
   "cell_type": "code",
   "execution_count": 10,
   "id": "991a7ad0",
   "metadata": {},
   "outputs": [],
   "source": [
    "def clean_and_convert(date):\n",
    "    if date != '':\n",
    "        date = date.replace(\"(\", \"\")\n",
    "        date = date.replace(\")\", \"\")\n",
    "        date = int(date)\n",
    "    return date\n"
   ]
  },
  {
   "cell_type": "code",
   "execution_count": 11,
   "id": "beaae99c",
   "metadata": {},
   "outputs": [],
   "source": [
    "for row in moma_data: \n",
    "    begin_date = row[3]\n",
    "    end_date = row[4]\n",
    "    row[3] = clean_and_convert(begin_date)\n",
    "    row[4] = clean_and_convert(end_date)"
   ]
  },
  {
   "cell_type": "code",
   "execution_count": 12,
   "id": "7ec7f193",
   "metadata": {},
   "outputs": [
    {
     "name": "stdout",
     "output_type": "stream",
     "text": [
      "[\"Rue de l'Hôtel-de-Ville\", 'Eugène Atget', 'French', 1857, 1927, 'Male', '1924', 'Photography']\n",
      "\n",
      "\n",
      "['Los Angeles Airport', 'Garry Winogrand', 'American', 1928, 1984, 'Male', '1978-1983', 'Photography']\n",
      "\n",
      "\n",
      "['Why Defy from Disasters of Peace', 'Diane Victor', 'South African', 1964, '', 'Female', '2001', 'Prints & Illustrated Books']\n",
      "\n",
      "\n",
      "['STILL WATER AND FISH', 'David Brown Milne', 'Canadian', 1882, 1953, 'Male', '(1941)', 'Prints & Illustrated Books']\n",
      "\n",
      "\n"
     ]
    }
   ],
   "source": [
    "explore_data(moma_data, 6, 10)"
   ]
  },
  {
   "cell_type": "markdown",
   "id": "aefd5b55",
   "metadata": {},
   "source": [
    "## Cleaning Date column "
   ]
  },
  {
   "cell_type": "markdown",
   "id": "89478a74",
   "metadata": {},
   "source": [
    "The next column I will clean is the Date column. We can see that in that column there are values in different formats:  \n",
    "* Some years are in parentheses.\n",
    "* Some years have c. or C. before them, indicating that the year is approximate.\n",
    "* Some have year ranges, indicated with a dash.\n",
    "* Some have 's to indicate a decade\n",
    "  \n",
    "We want to get rid of all extra characters like: \"(\", \")\", \"c.\" etc. Then if the value is range, we want to calculate average date. "
   ]
  },
  {
   "cell_type": "code",
   "execution_count": 13,
   "id": "e1e2ac70",
   "metadata": {},
   "outputs": [],
   "source": [
    "bad_chars = [\"(\",\")\",\"c\",\"C\",\".\",\"s\",\"'\", \" \"]\n",
    "\n",
    "def strip_characters(string):\n",
    "    for char in bad_chars:\n",
    "        string = string.replace(char,\"\")\n",
    "    return string\n"
   ]
  },
  {
   "cell_type": "code",
   "execution_count": 14,
   "id": "90ebd8fd",
   "metadata": {},
   "outputs": [],
   "source": [
    "def process_date(string):\n",
    "    if \"-\" in string:\n",
    "        splited_date = string.split(\"-\")\n",
    "        date_one = int(splited_date[0])\n",
    "        date_two = int(splited_date[1])\n",
    "        avg_date = (date_one + date_two) / 2\n",
    "        date = round(avg_date)\n",
    "    else:\n",
    "        date = int(string)\n",
    "        \n",
    "    return date\n"
   ]
  },
  {
   "cell_type": "code",
   "execution_count": 15,
   "id": "1815029b",
   "metadata": {},
   "outputs": [],
   "source": [
    "for row in moma_data:\n",
    "    date = row[6]\n",
    "    date = strip_characters(date)\n",
    "    date = process_date(date)\n",
    "    row[6] = date"
   ]
  },
  {
   "cell_type": "markdown",
   "id": "d7df1a3a",
   "metadata": {},
   "source": [
    "## Calcualting artist's age at which artist created piece of art"
   ]
  },
  {
   "cell_type": "code",
   "execution_count": 17,
   "id": "a1cd9d71",
   "metadata": {},
   "outputs": [],
   "source": [
    "ages = []\n",
    "\n",
    "for row in moma_data:\n",
    "    birth_date = row[3]\n",
    "    artwork_date = row[6]\n",
    "    if type(birth_date) == int:\n",
    "        age = artwork_date - birth_date \n",
    "    else: \n",
    "        age = 0 \n",
    "    ages.append(age)\n",
    "    \n",
    "final_ages = [] \n",
    "\n",
    "for age in ages:\n",
    "    if age > 20:\n",
    "        final_age = age\n",
    "    else: \n",
    "        final_age = \"Unknown\"\n",
    "    final_ages.append(final_age)"
   ]
  },
  {
   "cell_type": "markdown",
   "id": "c889e02d",
   "metadata": {},
   "source": [
    "Because there are many unique ages, we'll calculate only the decade during which the artist created each work. For instance, if we calculate that the artist was 24, we'll record that as the artist being in their \"20s.\""
   ]
  },
  {
   "cell_type": "code",
   "execution_count": 18,
   "id": "11025b1b",
   "metadata": {},
   "outputs": [],
   "source": [
    "decades = []\n",
    "for age in final_ages: \n",
    "    if age == \"Unknown\":\n",
    "        decade = age \n",
    "    else: \n",
    "        decade = str(age)\n",
    "        decade = decade[:-1]\n",
    "        decade += \"0s\"\n",
    "    decades.append(decade)"
   ]
  },
  {
   "cell_type": "code",
   "execution_count": 19,
   "id": "e44d8aee",
   "metadata": {},
   "outputs": [],
   "source": [
    "decade_frequency = {}\n",
    "for decade in decades:\n",
    "    if decade in decade_frequency:\n",
    "        decade_frequency[decade] += 1\n",
    "    else:\n",
    "        decade_frequency[decade] = 1"
   ]
  },
  {
   "cell_type": "markdown",
   "id": "292295b9",
   "metadata": {},
   "source": [
    "## Creating an Artist Frequency Table"
   ]
  },
  {
   "cell_type": "markdown",
   "id": "892393e9",
   "metadata": {},
   "source": [
    "Next, I will create frequency table that will show how many pieces of art of each artist there are in our dataset."
   ]
  },
  {
   "cell_type": "code",
   "execution_count": 20,
   "id": "47e562ed",
   "metadata": {},
   "outputs": [],
   "source": [
    "artist_freq = {}\n",
    "\n",
    "for row in moma: \n",
    "    artist = row[1]\n",
    "    if artist not in artist_freq:\n",
    "        artist_freq[artist] = 1\n",
    "    else: \n",
    "        artist_freq[artist] += 1"
   ]
  },
  {
   "cell_type": "code",
   "execution_count": 23,
   "id": "3518a1eb",
   "metadata": {},
   "outputs": [],
   "source": [
    "def artist_summary(artist_name):\n",
    "    artist_f = artist_freq[artist_name]\n",
    "    output = f\"There are {artist_f} artworks by {artist_name} in the dataset\"\n",
    "    print(output)\n"
   ]
  },
  {
   "cell_type": "code",
   "execution_count": 25,
   "id": "336234d2",
   "metadata": {},
   "outputs": [
    {
     "name": "stdout",
     "output_type": "stream",
     "text": [
      "There are 129 artworks by Henri Matisse in the dataset\n"
     ]
    }
   ],
   "source": [
    "artist_summary(\"Henri Matisse\")"
   ]
  },
  {
   "cell_type": "markdown",
   "id": "27c118e2",
   "metadata": {},
   "source": [
    "## Creating Gender Frequency Table"
   ]
  },
  {
   "cell_type": "markdown",
   "id": "1d036fb1",
   "metadata": {},
   "source": [
    "Next, I will create frequency table that will show how many pieces of art of each gender there are in our dataset."
   ]
  },
  {
   "cell_type": "code",
   "execution_count": 24,
   "id": "bf735649",
   "metadata": {},
   "outputs": [
    {
     "name": "stdout",
     "output_type": "stream",
     "text": [
      "There are 1 artworks by Gender artists\n",
      "There are 2,443 artworks by Female artists\n",
      "There are 13,491 artworks by Male artists\n",
      "There are 791 artworks by Gender Unknown/Other artists\n"
     ]
    }
   ],
   "source": [
    "gender_freq = {}\n",
    "\n",
    "for row in moma:\n",
    "    gender = row[5]\n",
    "    if gender in gender_freq:\n",
    "        gender_freq[gender] += 1\n",
    "    else:\n",
    "        gender_freq[gender] = 1\n",
    "        \n",
    "for key, value in gender_freq.items():\n",
    "    output = f\"There are {value:,} artworks by {key} artists\"\n",
    "    print(output)"
   ]
  }
 ],
 "metadata": {
  "kernelspec": {
   "display_name": "Python 3 (ipykernel)",
   "language": "python",
   "name": "python3"
  },
  "language_info": {
   "codemirror_mode": {
    "name": "ipython",
    "version": 3
   },
   "file_extension": ".py",
   "mimetype": "text/x-python",
   "name": "python",
   "nbconvert_exporter": "python",
   "pygments_lexer": "ipython3",
   "version": "3.11.5"
  }
 },
 "nbformat": 4,
 "nbformat_minor": 5
}
