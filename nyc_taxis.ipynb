{
 "cells": [
  {
   "cell_type": "markdown",
   "id": "66158071",
   "metadata": {},
   "source": [
    "# NYC Taxi-Airport Data\n"
   ]
  },
  {
   "cell_type": "code",
   "execution_count": 1,
   "id": "e02a3958",
   "metadata": {},
   "outputs": [],
   "source": [
    "import csv\n",
    "import numpy as np"
   ]
  },
  {
   "cell_type": "markdown",
   "id": "cd24896c",
   "metadata": {},
   "source": [
    "Import nyc_taxi.csv as a list of lists"
   ]
  },
  {
   "cell_type": "code",
   "execution_count": 2,
   "id": "74e63328",
   "metadata": {},
   "outputs": [],
   "source": [
    "f = open(\"nyc_taxis.csv\", \"r\")\n",
    "taxi_list = list(csv.reader(f))"
   ]
  },
  {
   "cell_type": "markdown",
   "id": "5d408acc",
   "metadata": {},
   "source": [
    "Remove the header"
   ]
  },
  {
   "cell_type": "code",
   "execution_count": 3,
   "id": "34d302c1",
   "metadata": {},
   "outputs": [],
   "source": [
    "taxi_list = taxi_list[1:]"
   ]
  },
  {
   "cell_type": "markdown",
   "id": "2957bf21",
   "metadata": {},
   "source": [
    "Convert all the values to float"
   ]
  },
  {
   "cell_type": "code",
   "execution_count": 4,
   "id": "40dd92c8",
   "metadata": {},
   "outputs": [],
   "source": [
    "converted_taxi_list = []\n",
    "for row in taxi_list:\n",
    "    converted_row = []\n",
    "    for element in row:\n",
    "        converted_row.append(float(element))\n",
    "    converted_taxi_list.append(converted_row)"
   ]
  },
  {
   "cell_type": "markdown",
   "id": "7488df7a",
   "metadata": {},
   "source": [
    "Convert list of lists into numpy array"
   ]
  },
  {
   "cell_type": "code",
   "execution_count": 5,
   "id": "b7465c1b",
   "metadata": {},
   "outputs": [],
   "source": [
    "taxi = np.array(converted_taxi_list)"
   ]
  },
  {
   "cell_type": "code",
   "execution_count": 10,
   "id": "c270cd4b",
   "metadata": {},
   "outputs": [
    {
     "name": "stdout",
     "output_type": "stream",
     "text": [
      "(2013, 15)\n"
     ]
    }
   ],
   "source": [
    "taxi_shape = taxi.shape\n",
    "print(taxi_shape)"
   ]
  },
  {
   "cell_type": "markdown",
   "id": "0b11f3ea",
   "metadata": {},
   "source": [
    "Ndarray has 15 columns and 2013 rows."
   ]
  },
  {
   "cell_type": "markdown",
   "id": "b0844672",
   "metadata": {},
   "source": [
    "Selecting and slicing rows from ndarrays"
   ]
  },
  {
   "cell_type": "code",
   "execution_count": null,
   "id": "fde4d824",
   "metadata": {},
   "outputs": [],
   "source": [
    "row_0 = taxi[0]\n",
    "rows_391_to_500 = taxi[391:501]\n",
    "row_21_column_5 = taxi[21][5]   "
   ]
  },
  {
   "cell_type": "markdown",
   "id": "a75f6189",
   "metadata": {},
   "source": [
    "Selecting columns and custom slicing Ndarrays"
   ]
  },
  {
   "cell_type": "code",
   "execution_count": 14,
   "id": "d1dfc087",
   "metadata": {},
   "outputs": [],
   "source": [
    "columns_1_4_7 = taxi[:, [1,4,7]]\n",
    "row_99_columns_5_to_8 = taxi[99, 5:9]\n",
    "rows_100_to_200_column_14 = taxi[100:201, 14]"
   ]
  },
  {
   "cell_type": "markdown",
   "id": "5ff64326",
   "metadata": {},
   "source": [
    "Vector operations"
   ]
  },
  {
   "cell_type": "code",
   "execution_count": 18,
   "id": "266c8120",
   "metadata": {},
   "outputs": [],
   "source": [
    "fare_amount = taxi[:, 9]\n",
    "fees_amount = taxi[:, 10]\n",
    "\n",
    "fare_and_fees = fare_amount + fees_amount"
   ]
  },
  {
   "cell_type": "code",
   "execution_count": 19,
   "id": "4e93bce1",
   "metadata": {},
   "outputs": [
    {
     "name": "stdout",
     "output_type": "stream",
     "text": [
      "[52.8 46.3 37.8 ... 52.8 35.8 49.3]\n"
     ]
    }
   ],
   "source": [
    "print(fare_and_fees)"
   ]
  },
  {
   "cell_type": "markdown",
   "id": "ef4e5a7d",
   "metadata": {},
   "source": [
    "Caluculating the average travel speed (in miles per hour)"
   ]
  },
  {
   "cell_type": "code",
   "execution_count": 20,
   "id": "4bf9607d",
   "metadata": {},
   "outputs": [],
   "source": [
    "trip_distance_miles = taxi[:, 7]\n",
    "trip_length_seconds = taxi[:,8]\n",
    "\n",
    "trip_length_hours = trip_length_seconds / 3600\n"
   ]
  },
  {
   "cell_type": "markdown",
   "id": "85bd516f",
   "metadata": {},
   "source": [
    "trip miles per hour = trip distance in miles ÷ trip length in hours\n"
   ]
  },
  {
   "cell_type": "code",
   "execution_count": 21,
   "id": "3777cdc7",
   "metadata": {},
   "outputs": [
    {
     "name": "stdout",
     "output_type": "stream",
     "text": [
      "[37.11340206 38.58157895 31.27222982 25.88429752 26.3715415  38.53293413\n",
      " 32.81553398 35.95075239 51.00702576 33.20207254]\n"
     ]
    }
   ],
   "source": [
    "trip_mph = trip_distance_miles / trip_length_hours\n",
    "\n",
    "print(trip_mph[:10])"
   ]
  },
  {
   "cell_type": "markdown",
   "id": "c5c31e52",
   "metadata": {},
   "source": [
    "Calculating statistics for 1D Ndarrays"
   ]
  },
  {
   "cell_type": "code",
   "execution_count": 22,
   "id": "2af758bf",
   "metadata": {},
   "outputs": [],
   "source": [
    "mph_min = trip_mph.min()\n",
    "mph_max = trip_mph.max()\n",
    "mph_mean = trip_mph.mean()"
   ]
  },
  {
   "cell_type": "code",
   "execution_count": 23,
   "id": "7add1bfa",
   "metadata": {},
   "outputs": [
    {
     "name": "stdout",
     "output_type": "stream",
     "text": [
      "0.0 82800.0 169.98315083655157\n"
     ]
    }
   ],
   "source": [
    "print(mph_min, mph_max, mph_mean)"
   ]
  },
  {
   "cell_type": "markdown",
   "id": "07d5d307",
   "metadata": {},
   "source": [
    "Calculating statistics for 2D Ndarrays"
   ]
  },
  {
   "cell_type": "code",
   "execution_count": 24,
   "id": "6fc275be",
   "metadata": {},
   "outputs": [],
   "source": [
    "# extract the first 5 rows only\n",
    "taxi_first_five = taxi[:5]\n",
    "# select columns: fare_amount, fees_amount, tolls_amount, and tip_amount\n",
    "fare_components = taxi_first_five[:, 9:13]"
   ]
  },
  {
   "cell_type": "code",
   "execution_count": 26,
   "id": "54d51584",
   "metadata": {},
   "outputs": [
    {
     "name": "stdout",
     "output_type": "stream",
     "text": [
      "[69.99 54.3  37.8  32.76 18.8 ] [69.99 54.3  37.8  32.76 18.8 ]\n"
     ]
    }
   ],
   "source": [
    "# calculate sum of each row \n",
    "fare_sums = fare_components.sum(axis = 1)\n",
    "# extract 14th column whoch is fare total  \n",
    "fare_totals = taxi_first_five[:, 13]\n",
    "\n",
    "print(fare_sums, fare_totals)"
   ]
  },
  {
   "cell_type": "code",
   "execution_count": null,
   "id": "4c41848c",
   "metadata": {},
   "outputs": [],
   "source": []
  }
 ],
 "metadata": {
  "kernelspec": {
   "display_name": "base",
   "language": "python",
   "name": "python3"
  },
  "language_info": {
   "codemirror_mode": {
    "name": "ipython",
    "version": 3
   },
   "file_extension": ".py",
   "mimetype": "text/x-python",
   "name": "python",
   "nbconvert_exporter": "python",
   "pygments_lexer": "ipython3",
   "version": "3.11.5"
  }
 },
 "nbformat": 4,
 "nbformat_minor": 5
}
